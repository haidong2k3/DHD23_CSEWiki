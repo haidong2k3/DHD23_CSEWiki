{
 "cells": [
  {
   "cell_type": "markdown",
   "metadata": {},
   "source": [
    "### Vị trí lưu trữ các python-related file trên Mac Os"
   ]
  },
  {
   "cell_type": "markdown",
   "metadata": {},
   "source": [
    "1. **usr/bin/python3** (local) -> file quan trọng, không nên đụng tới\n",
    "- đây là file có liên quan mật thiết đến cấu hình và hệ thống máy tính, \n",
    "- thường được cài đặt cùng với hệ điều hành \n",
    "- (Trên MacOS, có vẻ như file này được quản lý và sử dụng bởi xcode)"
   ]
  },
  {
   "cell_type": "markdown",
   "metadata": {},
   "source": [
    "2. **~/anaconda3/bin/python**\n",
    "- 1 interpreter của python được lưu trong thư mục bin của anaconda,\n",
    "- đây là python interpreter được tải cùng trong bộ của anaconda"
   ]
  },
  {
   "cell_type": "markdown",
   "metadata": {},
   "source": [
    "3. **/opt/homebrew/bin/python3**\n",
    "- các version của python được tải về thông qua homebrew được lưu trữ ở đây (thư mục bin của homebrew), \n",
    "- ta có thể thao tác với nó bằng các lệnh của brew trong terminal"
   ]
  },
  {
   "cell_type": "markdown",
   "metadata": {},
   "source": [
    "4. **/usr/local/bin/python3** (recommended)\n",
    "- chứa các file thực thi mở rộng được người dùng tải về từ các bên thứ 3,\n",
    "- VD như các phiên bản được tải trực tiếp từ web, các related-file sẽ được lưu trữ ở đây.\n",
    "- recommended: Được recommend bởi text editor\n",
    "    \n",
    "    ```bash\n",
    "    # Loc ra cac file python trong thu muc /usr/local/bin\n",
    "    ls -l /usr/local/bin | grep python \n",
    "    ```\n",
    "\n",
    "- Tuy nhiên, các framework thực sự sẽ được lưu trữ trong **/Library/Frameworks/Python.framework/Versions/**. Khi đó, các file thực thi sẽ được liên kết với các framework này.\n",
    "\n",
    "    ```bash\n",
    "    # Kiểm tra sự liên kết/phụ thuộc: readlink + file_path/file_name\n",
    "    readlink python3.12\n",
    "    ```"
   ]
  },
  {
   "cell_type": "code",
   "execution_count": 7,
   "metadata": {},
   "outputs": [
    {
     "name": "stdout",
     "output_type": "stream",
     "text": [
      "../../../Library/Frameworks/Python.framework/Versions/3.12/bin/python3\n"
     ]
    }
   ],
   "source": [
    "!readlink /usr/local/bin/python3"
   ]
  }
 ],
 "metadata": {
  "kernelspec": {
   "display_name": "Python 3",
   "language": "python",
   "name": "python3"
  },
  "language_info": {
   "codemirror_mode": {
    "name": "ipython",
    "version": 3
   },
   "file_extension": ".py",
   "mimetype": "text/x-python",
   "name": "python",
   "nbconvert_exporter": "python",
   "pygments_lexer": "ipython3",
   "version": "3.12.5"
  }
 },
 "nbformat": 4,
 "nbformat_minor": 2
}
